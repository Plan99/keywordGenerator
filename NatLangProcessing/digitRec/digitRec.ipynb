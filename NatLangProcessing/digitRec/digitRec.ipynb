{
 "metadata": {
  "name": "",
  "signature": "sha256:1be49cb37489b878fa4060b6134bb1f4894e796dc4f8883f357a288275a1cd38"
 },
 "nbformat": 3,
 "nbformat_minor": 0,
 "worksheets": [
  {
   "cells": [
    {
     "cell_type": "code",
     "collapsed": false,
     "input": [
      "from sklearn import svm\n",
      "from sklearn import datasets\n",
      "clf = svm.SVC()\n",
      "iris = datasets.load_iris()\n",
      "X, y = iris.data, iris.target\n",
      "clf.fit(X, y)"
     ],
     "language": "python",
     "metadata": {},
     "outputs": [
      {
       "metadata": {},
       "output_type": "pyout",
       "prompt_number": 1,
       "text": [
        "SVC(C=1.0, cache_size=200, class_weight=None, coef0=0.0, degree=3, gamma=0.0,\n",
        "  kernel='rbf', max_iter=-1, probability=False, random_state=None,\n",
        "  shrinking=True, tol=0.001, verbose=False)"
       ]
      }
     ],
     "prompt_number": 1
    },
    {
     "cell_type": "code",
     "collapsed": false,
     "input": [
      "import pickle\n",
      "s = pickle.dumps(clf)\n",
      "clf2 = pickle.loads(s)\n",
      "clf2.predict(X[0])\n",
      "y[0]"
     ],
     "language": "python",
     "metadata": {},
     "outputs": [
      {
       "metadata": {},
       "output_type": "pyout",
       "prompt_number": 2,
       "text": [
        "0"
       ]
      }
     ],
     "prompt_number": 2
    },
    {
     "cell_type": "code",
     "collapsed": false,
     "input": [
      "from sklearn.externals import joblib\n",
      "joblib.dump(clf, 'filename.pkl') "
     ],
     "language": "python",
     "metadata": {},
     "outputs": [
      {
       "metadata": {},
       "output_type": "pyout",
       "prompt_number": 3,
       "text": [
        "['filename.pkl',\n",
        " 'filename.pkl_01.npy',\n",
        " 'filename.pkl_02.npy',\n",
        " 'filename.pkl_03.npy',\n",
        " 'filename.pkl_04.npy',\n",
        " 'filename.pkl_05.npy',\n",
        " 'filename.pkl_06.npy',\n",
        " 'filename.pkl_07.npy',\n",
        " 'filename.pkl_08.npy',\n",
        " 'filename.pkl_09.npy',\n",
        " 'filename.pkl_10.npy']"
       ]
      }
     ],
     "prompt_number": 3
    },
    {
     "cell_type": "code",
     "collapsed": false,
     "input": [
      "clf = joblib.load('filename.pkl')"
     ],
     "language": "python",
     "metadata": {},
     "outputs": [],
     "prompt_number": 4
    },
    {
     "cell_type": "heading",
     "level": 1,
     "metadata": {},
     "source": [
      "2nd thing"
     ]
    },
    {
     "cell_type": "code",
     "collapsed": false,
     "input": [
      "from sklearn import datasets\n",
      "iris = datasets.load_iris()\n",
      "data = iris.data\n",
      "data.shape"
     ],
     "language": "python",
     "metadata": {},
     "outputs": [
      {
       "metadata": {},
       "output_type": "pyout",
       "prompt_number": 5,
       "text": [
        "(150, 4)"
       ]
      }
     ],
     "prompt_number": 5
    },
    {
     "cell_type": "code",
     "collapsed": false,
     "input": [],
     "language": "python",
     "metadata": {},
     "outputs": []
    }
   ],
   "metadata": {}
  }
 ]
}