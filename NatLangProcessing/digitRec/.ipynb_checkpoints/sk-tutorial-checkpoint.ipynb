{
 "metadata": {
  "name": "",
  "signature": "sha256:b2e6d82cdb165df1792c76bee69c4b6dcd2467fa832b5a1eb94974b1717b7619"
 },
 "nbformat": 3,
 "nbformat_minor": 0,
 "worksheets": []
}